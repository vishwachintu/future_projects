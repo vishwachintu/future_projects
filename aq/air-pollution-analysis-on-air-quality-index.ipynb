{
 "cells": [
  {
   "cell_type": "markdown",
   "metadata": {
    "_cell_guid": "dba85107-9068-423c-ac77-d6d488f5c43a",
    "_uuid": "6d343c9c40ec416b65a05e75b227fd1c7653751c"
   },
   "source": [
    "# Air Pollution\n",
    "\n",
    "## What is it?\n",
    "\n",
    "**Air pollution** refers to the release of pollutants into the air that are detrimental to human health and the planet as a whole. It can be described as one of the most dangerous threats that the humanity ever faced. It causes damage to animals, crops, forests, and  wate-bodiesr. It also contributes to the depletion of the ozone layer, which protects the Earth from the sun's UV rays. Some of the other environmental effects of air pollution are haze, eutrophication, and global climate changes.\n",
    "\n",
    "## What causes Air Pollution?\n",
    "\n",
    "Most air pollution comes from **energy use and production**. **Burning fossil fuels** releases gases and chemicals into the air. And in an especially destructive feedback loop, air pollution not only contributes to climate change but is also exacerbated by it. Air pollution in the form of carbon dioxide and methane raises the earth’s temperature. Another type of air pollution is then worsened by that increased heat: **Smog** forms when the weather is warmer and there’s more **ultraviolet radiation**. **Climate change** also increases the production of allergenic air pollutants including mold (thanks to damp conditions caused by extreme weather and increased flooding) and pollen (due to a longer pollen season and more pollen production).\n"
   ]
  },
  {
   "cell_type": "markdown",
   "metadata": {
    "_cell_guid": "643d88c6-0cd9-46f3-84bf-fbc633fc45fd",
    "_uuid": "de88bbb38ad6cabdd53119a06883a5035a4ff3ed"
   },
   "source": [
    "# About the notebook\n",
    "\n",
    "I am trying to gain expertize in Data Science field and I just completed the **SQL Scavenger Hunt** tutorial where I came to know about BigQuery. I had fun in learning and exploring the tutorial and trying my fingers on the code. So, here I am to explore my first ever kernel on BigQuery.\n",
    "\n",
    "In this notebook data is extracted from BigQuery Public Data assesible exclusively only in Kaggle. The BigQurey Helper Object will convert data in cloud storage into Pandas DataFrame object. The query syntax is same as SQL. As size of data is very high convert entire data to DataFrame is cumbersome. So query is written such that will be readly available for Visualization.\n",
    "\n",
    "> **BigQuery** is a RESTful web service that enables interactive analysis of massively large datasets working in conjunction with Google Storage. It is an Infrastructure as a Service that may be used complementarily with MapReduce.\n",
    "\n",
    "Here, I will be analyzing OpenAQ dataset, which has some information about the air pollutants. \n",
    "\n",
    "**Measurement units**\n",
    "       a.  ug/m3 : micro gram/cubic meter\n",
    "       b.  ppm : Parts Per Million\n",
    "\n",
    "**Pollutants**\n",
    "    a. O3 : Ozone gas\n",
    "    b. SO2 : Sulphur Dioxed\n",
    "    c. NO2 : Nitrogen Dioxed\n",
    "    d. PM2.5 : Particles with an aerodynamic diameter less than  2.5μm \n",
    "    e. PM10 : Particles with an aerodynamic diameter less than  10μm \n",
    "    f. CO : Carbon monoxide\n",
    "\n",
    "So, let's dive in immediately and find out the results!"
   ]
  },
  {
   "cell_type": "markdown",
   "metadata": {
    "_cell_guid": "a54ad93d-d795-4628-99e6-0084ef9c88c1",
    "_uuid": "3ad33a07619375a9b3b07048a6b1ed9b376189bb"
   },
   "source": [
    "# Importing the necessary libraries"
   ]
  },
  {
   "cell_type": "code",
   "execution_count": null,
   "metadata": {
    "_cell_guid": "a84f3cea-8e25-4a24-bcb6-8443bea6914e",
    "_uuid": "7f5d8bf8936fd1ffeba1ab2d3b2fd7bd1eee3445",
    "collapsed": true
   },
   "outputs": [],
   "source": [
    "# This Python 3 environment comes with many helpful analytics libraries installed\n",
    "# It is defined by the kaggle/python docker image: https://github.com/kaggle/docker-python\n",
    "# For example, here's several helpful packages to load in \n",
    "\n",
    "import numpy as np # linear algebra\n",
    "\n",
    "import pandas as pd # data processing, CSV file I/O (e.g. pd.read_csv)\n",
    "\n",
    "import warnings\n",
    "warnings.filterwarnings('ignore')\n",
    "pd.options.display.max_rows =10\n",
    "\n",
    "import bq_helper\n",
    "\n",
    "# google bigquery library for quering data\n",
    "from google.cloud import bigquery\n",
    "\n",
    "# BigQueryHelper for converting query result direct to dataframe\n",
    "from bq_helper import BigQueryHelper"
   ]
  },
  {
   "cell_type": "markdown",
   "metadata": {
    "_cell_guid": "b3e2a64b-c643-4741-abb2-c3d006df2f33",
    "_uuid": "1d55385114d95503c6436f2cc342fb3886c2a23b"
   },
   "source": [
    "# Importing Libraries for Plotting\n",
    "## (For Data Visualization)"
   ]
  },
  {
   "cell_type": "code",
   "execution_count": null,
   "metadata": {
    "_cell_guid": "42adcb8c-4ee3-4d37-a525-f9659ec11ded",
    "_uuid": "54533c755042d3264dd7f39bb630ca6925fba044"
   },
   "outputs": [],
   "source": [
    "# matplotlib for plotting\n",
    "import matplotlib.pyplot as plt\n",
    "import seaborn as sns\n",
    "plt.style.use('fivethirtyeight')\n",
    "\n",
    "# import plotly\n",
    "import plotly\n",
    "import plotly.offline as py\n",
    "py.init_notebook_mode(connected=True)\n",
    "import plotly.tools as tls\n",
    "import plotly.graph_objs as go\n",
    "import plotly.tools as tls\n",
    "import plotly.figure_factory as fig_fact\n",
    "plotly.tools.set_config_file(world_readable=True, sharing='public')\n",
    "\n",
    "from mpl_toolkits.basemap import Basemap\n",
    "import folium\n",
    "import folium.plugins as plugins\n",
    "\n",
    "%matplotlib inline"
   ]
  },
  {
   "cell_type": "markdown",
   "metadata": {
    "_cell_guid": "8262a7e2-0bae-4e73-969e-a4ee0c41deff",
    "_uuid": "02905df41c4ebb4e1b59b95a438bac4cd8f7f86a"
   },
   "source": [
    "# Starting with the dataset\n",
    "\n",
    "Now, we will be creating a dataset and list down all the tables for this particular dataset."
   ]
  },
  {
   "cell_type": "code",
   "execution_count": null,
   "metadata": {
    "_cell_guid": "98dfedc7-de4b-4c9c-b931-537c640b3e83",
    "_uuid": "d851b4eb3c03af72ab1d6f5c1cda83f902473963"
   },
   "outputs": [],
   "source": [
    "# create a helper object for this dataset\n",
    "open_aq = bq_helper.BigQueryHelper(active_project=\"bigquery-public-data\",\n",
    "                                   dataset_name=\"openaq\")\n",
    "\n",
    "\n",
    "# print all the tables in this dataset (there's only one!)\n",
    "open_aq.list_tables()"
   ]
  },
  {
   "cell_type": "code",
   "execution_count": null,
   "metadata": {
    "_kg_hide-output": true,
    "_uuid": "c756a9fb08c962faf37b5fb1837783678b4a8ec8"
   },
   "outputs": [],
   "source": [
    "#Schema \n",
    "open_aq.table_schema('global_air_quality')"
   ]
  },
  {
   "cell_type": "markdown",
   "metadata": {
    "_cell_guid": "bcc32e51-a881-482d-ab12-f59c1fc2a3a0",
    "_uuid": "4c5724d17249d7a98cef1e07519e6f9f362e39e5"
   },
   "source": [
    "So, we can see that we have only one table (**global_air_quality**) in the dataset **openaq**.\n",
    "\n",
    "Let's find out what are the different attributes for the table.\n",
    "\n",
    "### Display Table *global_air_quality*"
   ]
  },
  {
   "cell_type": "code",
   "execution_count": null,
   "metadata": {
    "_cell_guid": "754c7c73-3151-482a-bab6-84f67bf0e0f0",
    "_uuid": "63f1304a199b29d75f3d8248c0652c08cabdb6d0",
    "scrolled": true
   },
   "outputs": [],
   "source": [
    "# print the first couple rows of the \"global_air_quality\" dataset\n",
    "open_aq.head(\"global_air_quality\")"
   ]
  },
  {
   "cell_type": "markdown",
   "metadata": {
    "_uuid": "c5e9d26c19d1ed77c6ee4a6895d53b4585bb9e3b"
   },
   "source": [
    "# Air Quality Index(AQI) : Over the Years"
   ]
  },
  {
   "cell_type": "code",
   "execution_count": null,
   "metadata": {
    "_kg_hide-output": true,
    "_uuid": "7e22faebf22e7e626e21f88bd504832f3cdab5a5"
   },
   "outputs": [],
   "source": [
    "query_aqi = \"\"\"\n",
    "            SELECT EXTRACT(YEAR FROM timestamp) as `Year`,\n",
    "                   AVG(value) as `Average`,\n",
    "                   latitude,\n",
    "                   longitude\n",
    "        FROM `bigquery-public-data.openaq.global_air_quality`\n",
    "        WHERE unit = 'µg/m³'\n",
    "        GROUP BY Year, \n",
    "                 latitude,\n",
    "                 longitude\n",
    "        \"\"\"\n",
    "aqi = open_aq.query_to_pandas_safe(query_aqi)\n",
    "\n",
    "aqi.head()"
   ]
  },
  {
   "cell_type": "code",
   "execution_count": null,
   "metadata": {
    "_kg_hide-input": true,
    "_uuid": "75b98a307b2f7530842f87301c5100c8a7e87e11"
   },
   "outputs": [],
   "source": [
    "from matplotlib import animation,rc\n",
    "import io\n",
    "import base64\n",
    "from IPython.display import HTML, display\n",
    "import warnings\n",
    "warnings.filterwarnings('ignore')\n",
    "fig = plt.figure(figsize=(14,10))\n",
    "plt.style.use('ggplot')\n",
    "\n",
    "def animate(Year):\n",
    "    ax = plt.axes()\n",
    "    ax.clear()\n",
    "    ax.set_title('AQI in Year: '+str(Year))\n",
    "    m4 = Basemap(llcrnrlat=-90, urcrnrlat=90, llcrnrlon=-180,urcrnrlon=180,projection='cyl')\n",
    "    m4.drawmapboundary(fill_color='#A6CAE0', linewidth=0)\n",
    "    m4.fillcontinents(color='grey', alpha=0.3)\n",
    "    m4.drawcoastlines(linewidth=0.1, color=\"white\")\n",
    "    m4.shadedrelief()\n",
    "    \n",
    "    lat_y = list(aqi[aqi['Year'] == Year]['latitude'])\n",
    "    lon_y = list(aqi[aqi['Year'] == Year]['longitude'])\n",
    "    lat,lon = m4(lat_y,lon_y) \n",
    "    avg = np.log(aqi[aqi['Year'] == Year]['Average'])\n",
    "    m4.scatter(lon,lat,c = avg,lw=2, alpha=0.3,cmap='hot_r')\n",
    "   \n",
    "ani = animation.FuncAnimation(fig,animate,list(aqi['Year'].unique()), interval = 1500)    \n",
    "ani.save('animation.gif', writer='imagemagick', fps=1)\n",
    "plt.close(1)\n",
    "filename = 'animation.gif'\n",
    "video = io.open(filename, 'r+b').read()\n",
    "encoded = base64.b64encode(video)\n",
    "HTML(data='''<img src=\"data:image/gif;base64,{0}\" type=\"gif\" />'''.format(encoded.decode('ascii')))"
   ]
  },
  {
   "cell_type": "markdown",
   "metadata": {
    "_uuid": "d5b0140feb3008593b5b4af5b15f6c1a89d3787f"
   },
   "source": [
    "We can see from the above animated image that the number of countries affected by pollutants increases over the number of years.\n",
    "Now, we will have a find out the  countries listed in the AQI.\n",
    "\n",
    "# Countries listed in Air Quality Index (AQI)"
   ]
  },
  {
   "cell_type": "code",
   "execution_count": null,
   "metadata": {
    "_kg_hide-output": true,
    "_uuid": "8aa72f01b95e5588fe95aae34db75e053bd76512"
   },
   "outputs": [],
   "source": [
    "query = \"\"\"SELECT country,COUNT(country) as `count`\n",
    "    FROM `bigquery-public-data.openaq.global_air_quality`\n",
    "    GROUP BY country\n",
    "    HAVING COUNT(country) >10\n",
    "    ORDER BY `count` DESC\n",
    "    \"\"\"\n",
    "cnt = open_aq.query_to_pandas_safe(query)\n",
    "\n",
    "cnt.head()"
   ]
  },
  {
   "cell_type": "code",
   "execution_count": null,
   "metadata": {
    "_kg_hide-input": true,
    "_uuid": "0777d4e2f2856dd3d959da9e31b5d4c9a6b97306"
   },
   "outputs": [],
   "source": [
    "plt.style.use('bmh')\n",
    "plt.figure(figsize=(15,5))\n",
    "sns.barplot(cnt['country'], cnt['count'], palette='magma')\n",
    "plt.xticks(rotation=45)\n",
    "plt.title('Distribution of country listed in data');"
   ]
  },
  {
   "cell_type": "markdown",
   "metadata": {
    "_uuid": "6a5754d6bdf56fab357584463b02972124e402d0"
   },
   "source": [
    "# Locations\n",
    "\n",
    "Shown below are some locations where average AQI reports to be the maximum.\n",
    "\n",
    "Other locations in World Map are also shown below."
   ]
  },
  {
   "cell_type": "code",
   "execution_count": null,
   "metadata": {
    "_uuid": "f6eef742d972b7a4ce0802e6e92deef9912d2b21"
   },
   "outputs": [],
   "source": [
    "query = \"\"\"SELECT city,latitude,longitude,averaged_over_in_hours,\n",
    "            AVG(value) as `Average`\n",
    "            FROM `bigquery-public-data.openaq.global_air_quality`\n",
    "            WHERE unit = 'µg/m³'\n",
    "            GROUP BY latitude,city,longitude,averaged_over_in_hours   \n",
    "            ORDER BY Average DESC\n",
    "            \"\"\"\n",
    "location = open_aq.query_to_pandas_safe(query)\n",
    "location.dropna(axis=0, inplace=True)\n",
    "location.head(10)"
   ]
  },
  {
   "cell_type": "markdown",
   "metadata": {
    "_uuid": "b021562db6847d8f6ccffae5c0d2ede40f67c0e5"
   },
   "source": [
    "We can see that Indian cities are holding the topmost places in the leaderboard.\n",
    "But, there are many other places in the dataset which are also not lagging.\n",
    "We can see those places in the map below."
   ]
  },
  {
   "cell_type": "markdown",
   "metadata": {
    "_uuid": "2176e32e2e96bc688f4db4ec9c5ba241ee08dd6f"
   },
   "source": [
    "# AQI Value Distribuution Map View"
   ]
  },
  {
   "cell_type": "code",
   "execution_count": null,
   "metadata": {
    "_kg_hide-input": true,
    "_uuid": "324d9291652ae013fc71103c552adb6818dae99d"
   },
   "outputs": [],
   "source": [
    "plt.style.use('ggplot')\n",
    "f,ax = plt.subplots(figsize=(15,10))\n",
    "m1 = Basemap(projection='cyl', llcrnrlon=-180, urcrnrlon=180, llcrnrlat=-90, urcrnrlat=90,\n",
    "            resolution='c',lat_ts=True)\n",
    "\n",
    "m1.drawmapboundary(fill_color='#A6CAE0', linewidth=0)\n",
    "m1.fillcontinents(color='grey', alpha=0.3)\n",
    "m1.drawcoastlines(linewidth=0.1, color=\"white\")\n",
    "m1.shadedrelief()\n",
    "\n",
    "hour = location['averaged_over_in_hours']\n",
    "avg = np.log(location['Average'])\n",
    "m1loc = m1(location['latitude'].tolist(),location['longitude'])\n",
    "m1.scatter(m1loc[1],m1loc[0],lw=3,alpha=0.5,cmap='hot_r',\\\n",
    "          c=avg,s=hour)\n",
    "plt.title('Average Air qulity index in unit $ug/m^3$ value')\n",
    "plt.colorbar(label=' Average Log AQI value in unit $ug/m^3$');"
   ]
  },
  {
   "cell_type": "markdown",
   "metadata": {
    "_uuid": "2ce5013c201e67b4a9cdd211640b8d58ed609caa"
   },
   "source": [
    "So, we can see that the pollution level in different places are at an alarming condition. The European countries(topping the list, USA,South and South-East Asian conutries are making more pollution, where as Australia, Africa and South Africa do not make up to the topper's list."
   ]
  },
  {
   "cell_type": "markdown",
   "metadata": {
    "_uuid": "cffc2276aebf9144b29bb2188d7e596599d20f64"
   },
   "source": [
    "# Countries producing more pollution\n",
    "## Digging Deeper"
   ]
  },
  {
   "cell_type": "code",
   "execution_count": null,
   "metadata": {
    "_uuid": "2969a676c7ed6c97f41d059cb2fea35cb3fb6cbf"
   },
   "outputs": [],
   "source": [
    "#USA location\n",
    "query = \"\"\"SELECT \n",
    "            MAX(latitude) as `max_lat`,\n",
    "            MIN(latitude) as `min_lat`,\n",
    "            MAX(longitude) as `max_lon`,\n",
    "            MIN(longitude) as `min_lon`\n",
    "            FROM `bigquery-public-data.openaq.global_air_quality`\n",
    "            WHERE country = 'US' \n",
    "        \"\"\"\n",
    "us_loc = open_aq.query_to_pandas_safe(query)\n",
    "us_loc"
   ]
  },
  {
   "cell_type": "code",
   "execution_count": null,
   "metadata": {
    "_uuid": "b60c5f5b8c3a69f74016e6ea9bdb7f272f02f827"
   },
   "outputs": [],
   "source": [
    "query = \"\"\" SELECT city,latitude,longitude,averaged_over_in_hours,\n",
    "            AVG(value) as `Average`\n",
    "            FROM `bigquery-public-data.openaq.global_air_quality`\n",
    "            WHERE country = 'US' AND unit = 'µg/m³'\n",
    "            GROUP BY latitude,city,longitude,averaged_over_in_hours,country\n",
    "            ORDER BY Average DESC\n",
    "        \"\"\"\n",
    "\n",
    "us_aqi = open_aq.query_to_pandas_safe(query)\n",
    "us_aqi.head()"
   ]
  },
  {
   "cell_type": "code",
   "execution_count": null,
   "metadata": {
    "_kg_hide-input": true,
    "_uuid": "b3e442734b64cce9e633d8a5d1d73f74c89348ae"
   },
   "outputs": [],
   "source": [
    "# USA\n",
    "min_lat = us_loc['min_lat']\n",
    "max_lat = us_loc['max_lat']\n",
    "min_lon = us_loc['min_lon']\n",
    "max_lon = us_loc['max_lon']\n",
    "\n",
    "plt.figure(figsize=(14,10))\n",
    "m2 = Basemap(projection='cyl', llcrnrlon=min_lon, urcrnrlon=max_lon, llcrnrlat=min_lat, urcrnrlat=max_lat,\n",
    "            resolution='c',lat_ts=True)\n",
    "m2.drawcounties()\n",
    "m2.drawmapboundary(fill_color='#A6CAE0', linewidth=0)\n",
    "m2.fillcontinents(color='grey', alpha=0.3)\n",
    "m2.drawcoastlines(linewidth=0.1, color=\"white\")\n",
    "m2.drawstates()\n",
    "avg = np.log((us_aqi['Average']))\n",
    "h = us_aqi['averaged_over_in_hours']\n",
    "m2loc = m2(us_aqi['latitude'].tolist(),us_aqi['longitude'])\n",
    "m2.scatter(m2loc[1],m2loc[0],s = h,c = avg,lw=3,alpha=0.2,zorder=3,cmap='hot_r')\n",
    "plt.colorbar(label = 'Average Log AQI value in unit $ug/m^3$')\n",
    "plt.title('Average Air qulity index in unit $ug/m^3$ of US')"
   ]
  },
  {
   "cell_type": "code",
   "execution_count": null,
   "metadata": {
    "_uuid": "c490425c3a806e8b4f75370ea22568562f38f305"
   },
   "outputs": [],
   "source": [
    "#INDIA location\n",
    "query = \"\"\"SELECT \n",
    "            MAX(latitude) as `max_lat`,\n",
    "            MIN(latitude) as `min_lat`,\n",
    "            MAX(longitude) as `max_lon`,\n",
    "            MIN(longitude) as `min_lon`\n",
    "            FROM `bigquery-public-data.openaq.global_air_quality`\n",
    "            WHERE country = 'IN' \"\"\"\n",
    "in_loc = open_aq.query_to_pandas_safe(query)\n",
    "in_loc"
   ]
  },
  {
   "cell_type": "code",
   "execution_count": null,
   "metadata": {
    "_uuid": "ee793842ae6dc6e1d6185a9c337c96ccbb6f2ec9"
   },
   "outputs": [],
   "source": [
    "query = \"\"\" SELECT city,latitude,longitude,averaged_over_in_hours,\n",
    "            AVG(value) as `Average`\n",
    "            FROM `bigquery-public-data.openaq.global_air_quality`\n",
    "            WHERE country = 'IN' AND unit = 'µg/m³'\n",
    "            GROUP BY latitude,city,longitude,averaged_over_in_hours,country \"\"\"\n",
    "in_aqi = open_aq.query_to_pandas_safe(query)\n",
    "in_aqi"
   ]
  },
  {
   "cell_type": "code",
   "execution_count": null,
   "metadata": {
    "_uuid": "abd2df15cbc1a3f927d49c9549008415866d9d7c"
   },
   "outputs": [],
   "source": [
    "# INDIA\n",
    "min_lat = in_loc['min_lat']\n",
    "max_lat = in_loc['max_lat']\n",
    "min_lon = in_loc['min_lon']\n",
    "max_lon = in_loc['max_lon']\n",
    "\n",
    "plt.figure(figsize=(15,7))\n",
    "m3 = Basemap(projection='cyl', llcrnrlon=min_lon, urcrnrlon=max_lon, llcrnrlat=min_lat, urcrnrlat=max_lat,\n",
    "            resolution='c',lat_ts=True)\n",
    "m3.drawcounties()\n",
    "m3.drawmapboundary(fill_color='#A6CAE0', linewidth=0)\n",
    "m3.fillcontinents(color='grey', alpha=0.3)\n",
    "m3.drawcoastlines(linewidth=0.1, color=\"white\")\n",
    "m3.drawstates()\n",
    "avg = np.log((in_aqi['Average']))\n",
    "h = in_aqi['averaged_over_in_hours']\n",
    "m3loc = m3(in_aqi['latitude'].tolist(),in_aqi['longitude'])\n",
    "m3.scatter(m3loc[1],m3loc[0],s = h,c = avg,lw=3,alpha=1,cmap='hot_r')\n",
    "plt.colorbar(label = 'Average Log AQI value in unit $ug/m^3$')\n",
    "plt.title('Average Air qulity index in unit $ug/m^3$ of India');"
   ]
  },
  {
   "cell_type": "markdown",
   "metadata": {
    "_cell_guid": "6ccd1acb-3d52-4c73-94bc-118ef3b73d5e",
    "_uuid": "558b86c7f7de23b61651e21f1004c534b9a7d780"
   },
   "source": [
    "# Country Source\n",
    "\n",
    "In the above dataset, we can see that there is an attribute called 'source_name'. This attribute points to the source (i.e. magazine/newspaper/media) which provides the pollution data for particular countries.\n",
    "So, our next step would be to find out the different source names and their corresponding reporting countries. "
   ]
  },
  {
   "cell_type": "markdown",
   "metadata": {
    "_uuid": "316b08383e7b734656ff4ca52be3734716622bb6"
   },
   "source": []
  },
  {
   "cell_type": "code",
   "execution_count": null,
   "metadata": {
    "_cell_guid": "199f10d8-e7d2-4bf8-a0ed-30f2358d14e7",
    "_uuid": "9132757464e5aadaf19e812d7ec4e97003d8cd0c",
    "collapsed": true
   },
   "outputs": [],
   "source": [
    "query_source = \"\"\"\n",
    "                    SELECT \n",
    "                    DISTINCT source_name, \n",
    "                             country\n",
    "                    FROM `bigquery-public-data.openaq.global_air_quality`\n",
    "                    ORDER BY source_name\n",
    "                    \"\"\"\n",
    "\n",
    "source = open_aq.query_to_pandas_safe(query_source)\n",
    "\n",
    "source.head(10)"
   ]
  },
  {
   "cell_type": "markdown",
   "metadata": {
    "_cell_guid": "99af079f-2c54-429e-9f6b-5ac47affefe6",
    "_uuid": "7bbbd4529c48c03b9e5a9a86374dc47e58e1c70e"
   },
   "source": [
    "So, listed above are some of the countries along with their source providers. \n",
    "For example, AirNow provides **Air Quality Reports **for countries like Australia (AU), United States (US), Chile (CL), Mexico (MX) and Canada (CA), to be named a few. \n",
    "\n",
    "Now, we will be checking country count per source in the below query."
   ]
  },
  {
   "cell_type": "code",
   "execution_count": null,
   "metadata": {
    "_cell_guid": "0fddd72b-f659-41c0-91e1-437faedbf81d",
    "_uuid": "275b1f8a06cb0bc4fcae5cd9d9ba4aa633e42943",
    "collapsed": true,
    "scrolled": true
   },
   "outputs": [],
   "source": [
    "query_country_count_per_source = \"\"\"\n",
    "                    SELECT \n",
    "                    DISTINCT source_name,\n",
    "                    COUNT(country) AS Country_Count\n",
    "                    FROM `bigquery-public-data.openaq.global_air_quality`\n",
    "                    GROUP BY source_name\n",
    "                    HAVING Country_Count > 50\n",
    "                    ORDER BY Country_Count DESC\n",
    "                    \"\"\"\n",
    "# Country_Count > 50 (Ignoring the negligible values)\n",
    "country_count_per_source = open_aq.query_to_pandas_safe(query_country_count_per_source)\n",
    "\n",
    "country_count_per_source.head(10)"
   ]
  },
  {
   "cell_type": "markdown",
   "metadata": {
    "_cell_guid": "91fec50c-c86a-4500-94f6-437c1465d02f",
    "_uuid": "49da727d07b643fd1140bc131df6b68cf3e110f9"
   },
   "source": [
    "According to the data produced above, we will now plot a graph to find out the leading sources(in terms of number of countries) to provide the **Air Quality Data/Pollution Report**.\n",
    "\n",
    "# Graph Plot"
   ]
  },
  {
   "cell_type": "code",
   "execution_count": null,
   "metadata": {
    "_cell_guid": "a0639a9d-1a7b-479f-8273-c394f5d2ffab",
    "_uuid": "5b1eac8b4e31d3a40e27139d92d0b8808cbb21d7",
    "collapsed": true
   },
   "outputs": [],
   "source": [
    "plt.subplots(figsize=(12,10))\n",
    "sns.barplot(x='Country_Count',y='source_name',data=country_count_per_source,palette='inferno',edgecolor=sns.color_palette('dark',7))\n",
    "plt.ylabel('Source Name', fontsize=15)\n",
    "plt.xticks(rotation=45,fontsize=10)\n",
    "plt.xlabel('Country Count', fontsize=15)\n",
    "plt.title('Sources per Country Count', fontsize=24)\n",
    "plt.savefig('sources_per_country_count.png')\n",
    "plt.show()"
   ]
  },
  {
   "cell_type": "markdown",
   "metadata": {
    "_cell_guid": "d6549ae9-9d18-49c2-ba7b-416d67f91ba7",
    "_uuid": "93faf6bf6786102dea457336f22014030d204b48"
   },
   "source": [
    "Here, we can see that sources like **AirNow**, **EEA France**, **EEA Spain**, **EEA Germany**, **EEA Austria**, **EEA Czech Republic** tops the leaderboard.\n",
    "\n",
    "So, for our further analysis, we will consider the pollutant data from the above stated sources.\n",
    "\n",
    "Hence, the next step will be to identify the different pollutants."
   ]
  },
  {
   "cell_type": "markdown",
   "metadata": {
    "_cell_guid": "0ca198cf-1b89-4514-8dda-f186192d8083",
    "_uuid": "b2e8dba4a8c253e15b13e8a9368a5522a8e52d0a"
   },
   "source": [
    "# Different Pollutants"
   ]
  },
  {
   "cell_type": "code",
   "execution_count": null,
   "metadata": {
    "_cell_guid": "01a10ef3-f8d6-404f-9aa4-b5853216b9a7",
    "_uuid": "303c573fb74b980180f9f71c024035c0276755a4",
    "collapsed": true
   },
   "outputs": [],
   "source": [
    "query_pollutants = \"\"\"\n",
    "                    SELECT \n",
    "                    DISTINCT pollutant, unit\n",
    "                    FROM `bigquery-public-data.openaq.global_air_quality`\n",
    "                    WHERE source_name IN ('AirNow', 'EEA France', 'EEA Spain', 'EEA Germany', 'EEA Austria', 'EEA Czech Republic')\n",
    "                    ORDER BY pollutant\n",
    "                    \"\"\"\n",
    "\n",
    "pollutants = open_aq.query_to_pandas_safe(query_pollutants)\n",
    "\n",
    "pollutants.head(15)"
   ]
  },
  {
   "cell_type": "markdown",
   "metadata": {
    "_cell_guid": "dca3140a-0bbe-44eb-bc7a-bb01d108e5be",
    "_uuid": "40eaa2bd8c2fc70d7d88e27d6965a3bcd780db9a"
   },
   "source": [
    "So, the noted pollutants are:\n",
    "\n",
    "*  Black Carbon\n",
    "*  Carbon Monoxide\n",
    "*  Nitrogen Dioxide\n",
    "*  Ozone\n",
    "*  Sulphur Dioxide\n",
    "*  pm10\n",
    "*  pm25\n",
    "\n",
    "Hence, we will be focusing more on these pollutants now."
   ]
  },
  {
   "cell_type": "markdown",
   "metadata": {
    "_cell_guid": "709646a7-ef5d-4359-b045-809751fad56a",
    "_uuid": "c2c3140b93bed3e611414afb1c0ac32c6752a615"
   },
   "source": [
    "# Black Carbon \n",
    "\n",
    "**Black carbon** is the **sooty black material **emitted from gas and diesel engines, coal-fired power plants, and other sources that burn fossil fuel. It comprises a significant portion of particulate matter or PM, which is an air pollutant.\n",
    "\n",
    "**Black Carbon (BC) **has recently emerged as a major contributor to global climate change, possibly second only to CO2 as the main driver of change. BC particles strongly absorb sunlight and give soot its black color. BC is produced both naturally and by human activities as a result of the incomplete combustion of fossil fuels, biofuels, and biomass. Primary sources include emissions from diesel engines, cook stoves, wood burning and forest fires. Reducing CO2 emissions is essential to avert the worst impacts of future climate change, but CO2 has such a long atmospheric lifetime that it will take several decades for CO2 concentrations to begin to stabilize after emissions reductions begin. In contrast, BC remains in the atmosphere for only a few weeks, so cutting its emissions would immediately reduce the rate of warming, particularly in the rapidly changing Arctic. Moreover, reduced exposure to BC provides public health co-benefits, especially in developing countries. Technologies that can reduce global BC emissions are available today.\n",
    "\n",
    "# Analysis\n",
    "## (µg/m³)"
   ]
  },
  {
   "cell_type": "code",
   "execution_count": null,
   "metadata": {
    "_cell_guid": "967bb651-4af6-4ac3-8a20-e7578a64876a",
    "_uuid": "76ba430f201a88fefb85abfeedafaee8f8af7cca",
    "collapsed": true
   },
   "outputs": [],
   "source": [
    "query_bc = \"\"\"\n",
    "    SELECT country, \n",
    "           source_name,\n",
    "           avg(value) as Avg_Value\n",
    "    FROM\n",
    "      `bigquery-public-data.openaq.global_air_quality`\n",
    "    WHERE\n",
    "      pollutant = 'bc'\n",
    "      AND unit = 'µg/m³'\n",
    "      GROUP BY country, source_name\n",
    "      ORDER BY Avg_Value ASC\n",
    "        \"\"\"\n",
    "\n",
    "bc = open_aq.query_to_pandas_safe(query_bc)\n",
    "\n",
    "bc.head(10)"
   ]
  },
  {
   "cell_type": "markdown",
   "metadata": {
    "_cell_guid": "8944acc2-564f-4935-8740-063e200f73b7",
    "_uuid": "3e624ecdb81916ed72a5adf21fb66981cb26b095"
   },
   "source": [
    "As per **AirNow**(as mentioned in the dataset), **US** is the only country which produces **Black Carbon** with an average value of **1.4525**.\n",
    "Hence, no graph plot could be produced."
   ]
  },
  {
   "cell_type": "markdown",
   "metadata": {
    "_cell_guid": "d17b2120-a8b8-4a73-976d-b7e59111835f",
    "_uuid": "7578b79bcae92fa3bea7aaf0070d26dc8410c456"
   },
   "source": [
    "# Carbon Monoxide \n",
    "\n",
    "**Carbon monoxide**, also known as CO, is called the \"**Invisible Killer**\" because it's a colorless, odorless, poisonous gas. More than 150 people in the Unites States die every year(not only in US, but also in other countries) from accidental non-fire related CO poisoning associated with consumer products, including generators. Other products include faulty, improperly-used or incorrectly-vented fuel-burning appliances such as furnaces, stoves, water heaters and fireplaces.\n",
    "\n",
    "# Analysis - I\n",
    "## (µg/m³)"
   ]
  },
  {
   "cell_type": "code",
   "execution_count": null,
   "metadata": {
    "_cell_guid": "58b18895-3b61-4c27-91ca-be3d52325797",
    "_uuid": "b662da7aabccee98e6c9e6dfdb1723fcbed2d9bb",
    "collapsed": true
   },
   "outputs": [],
   "source": [
    "query_co = \"\"\"\n",
    "    SELECT country, \n",
    "           avg(value) as Avg_Value\n",
    "    FROM\n",
    "      `bigquery-public-data.openaq.global_air_quality`\n",
    "    WHERE\n",
    "      pollutant = 'co'\n",
    "      AND unit = 'µg/m³'\n",
    "      GROUP BY country, source_name\n",
    "      ORDER BY Avg_Value ASC\n",
    "        \"\"\"\n",
    "\n",
    "co = open_aq.query_to_pandas_safe(query_co)\n",
    "\n",
    "co.head(10)"
   ]
  },
  {
   "cell_type": "markdown",
   "metadata": {
    "_cell_guid": "79f9f9b4-2614-48ca-9386-02e635fcf961",
    "_uuid": "02dd4d38e4c411a9c88a1d37d0879dc8497b48ec"
   },
   "source": [
    "The query produced some country names above which has CO gas values (in µg/m³), and the graphical representation is shown below:\n",
    "\n",
    "# Graph Plot"
   ]
  },
  {
   "cell_type": "code",
   "execution_count": null,
   "metadata": {
    "_cell_guid": "069a4cca-73c1-4a68-85cc-3e16889f807a",
    "_uuid": "f7bffdca028b79c5b3c5d9a691ca2933f4957f9e",
    "collapsed": true
   },
   "outputs": [],
   "source": [
    "plt.subplots(figsize=(15,6))\n",
    "sns.barplot(x='country',y='Avg_Value',data=co,palette='inferno',edgecolor=sns.color_palette('dark',7))\n",
    "plt.ylabel('Carbon Monoxide Gas values in µg/m³', fontsize=20)\n",
    "plt.xticks(rotation=90,fontsize=20)\n",
    "plt.xlabel('Country', fontsize=20)\n",
    "plt.title('Average value of Carbon Monoxide gas in different countries', fontsize=24)\n",
    "plt.savefig('avg_co.png')\n",
    "plt.show()"
   ]
  },
  {
   "cell_type": "markdown",
   "metadata": {
    "_cell_guid": "3f2b922d-875d-42b1-bb58-0a4831bec9df",
    "_uuid": "05091fe22d1afa86f3bea45066cd90a9b3cb6a4b"
   },
   "source": [
    "The above plot shows Italy(IT) has the most negative gas values in µg/m³ (which indicates less pollution), whereas Mongolia (MN) tops the list. Countries like Lithuania (LI), Ireland (IE), Latvia (LV) and Belgium (BE) is on the verge of 0.\n",
    "\n",
    "# Carbon Monoxide : Analysis - II\n",
    "## (ppm)"
   ]
  },
  {
   "cell_type": "code",
   "execution_count": null,
   "metadata": {
    "_cell_guid": "013ca77b-72b5-48fe-a076-3281f1d0f39f",
    "_uuid": "7f8e1a771dedc0c312f98efbe1f919ca025783f1",
    "collapsed": true
   },
   "outputs": [],
   "source": [
    "query_co_ppm = \"\"\"\n",
    "    SELECT country, \n",
    "           avg(value) as Avg_Value\n",
    "    FROM\n",
    "      `bigquery-public-data.openaq.global_air_quality`\n",
    "    WHERE\n",
    "      pollutant = 'co'\n",
    "      AND unit = 'ppm'\n",
    "      GROUP BY country, source_name\n",
    "      ORDER BY Avg_Value ASC\n",
    "        \"\"\"\n",
    "\n",
    "co_ppm = open_aq.query_to_pandas_safe(query_co_ppm)\n",
    "\n",
    "co_ppm.head(10)"
   ]
  },
  {
   "cell_type": "markdown",
   "metadata": {
    "_cell_guid": "4165edf3-a6a7-4b40-a3e1-5724a8616af9",
    "_uuid": "f5c495659d65bc169e101518ca064e3409fce2c1"
   },
   "source": [
    "The query produced some country names above which has CO gas values (in ppm), and the graphical representation is shown below:\n",
    "\n",
    "# Graph Plot"
   ]
  },
  {
   "cell_type": "code",
   "execution_count": null,
   "metadata": {
    "_cell_guid": "f5e52dff-4c65-4e87-b3b4-3a4fc70e4a72",
    "_uuid": "c62127467f15a24c05779a66a0aa45ce389394bb",
    "collapsed": true
   },
   "outputs": [],
   "source": [
    "plt.subplots(figsize=(15,7))\n",
    "sns.barplot(x='country',y='Avg_Value',data=co_ppm,palette='inferno',edgecolor=sns.color_palette('dark',7))\n",
    "plt.ylabel('Carbon Monoxide Gas values in ppm', fontsize=20)\n",
    "plt.xticks(rotation=90,fontsize=20)\n",
    "plt.xlabel('Country', fontsize=20)\n",
    "plt.title('Average value of Carbon Monoxide gas in different countries', fontsize=24)\n",
    "plt.savefig('avg_co_ppm.png')\n",
    "plt.show()"
   ]
  },
  {
   "cell_type": "markdown",
   "metadata": {
    "_cell_guid": "9f2d22b4-1a5f-46d4-aa44-87b22b21efbb",
    "_uuid": "3a68cbbe3b5fe4fb455c3bb2511c9dd6737ccab2"
   },
   "source": [
    "The above plot shows Australia (AU) has less gas values in ppm, almost on the verge of 0 (which indicates less pollution), whereas Thailand (TH) tops the list. "
   ]
  },
  {
   "cell_type": "markdown",
   "metadata": {
    "_cell_guid": "f1b4cef4-6554-4ed2-9c07-675c60d185e6",
    "_uuid": "8af35f9f10cd7d8938f08c729aad056e4d12d066"
   },
   "source": [
    "# Nitrogen Dioxide : Analysis I\n",
    "## (µg/m³)"
   ]
  },
  {
   "cell_type": "code",
   "execution_count": null,
   "metadata": {
    "_cell_guid": "15016018-5083-4d2f-93dd-b4fe9c426e86",
    "_uuid": "311605dc65e4d6c2b3371f00e0216bdcf9fa69b7",
    "collapsed": true
   },
   "outputs": [],
   "source": [
    "query_no2 = \"\"\"\n",
    "    SELECT country, \n",
    "           avg(value) as Avg_Value\n",
    "    FROM\n",
    "      `bigquery-public-data.openaq.global_air_quality`\n",
    "    WHERE\n",
    "      pollutant = 'no2'\n",
    "      AND unit = 'µg/m³'\n",
    "      GROUP BY country, source_name\n",
    "      ORDER BY Avg_Value ASC\n",
    "        \"\"\"\n",
    "\n",
    "no2 = open_aq.query_to_pandas_safe(query_no2)\n",
    "\n",
    "no2.head(5)"
   ]
  },
  {
   "cell_type": "markdown",
   "metadata": {
    "_cell_guid": "ad3256fa-aced-4c83-9682-10d314427f70",
    "_uuid": "858a7e4074e2c82667ca322c285c6375a7284288"
   },
   "source": [
    "# Graph Plot"
   ]
  },
  {
   "cell_type": "code",
   "execution_count": null,
   "metadata": {
    "_cell_guid": "a223d849-89f7-4e00-ae41-b12e1ee5aea6",
    "_uuid": "4e7e4de206c164aaedca3b7c034eda2a9db1276b",
    "collapsed": true
   },
   "outputs": [],
   "source": [
    "plt.subplots(figsize=(15,6))\n",
    "sns.barplot(x='country',y='Avg_Value',data=no2,palette='inferno',edgecolor=sns.color_palette('dark',7))\n",
    "plt.ylabel('Nitrogen Dioxide Gas values in µg/m³', fontsize=20)\n",
    "plt.xticks(rotation=90,fontsize=20)\n",
    "plt.xlabel('Country', fontsize=20)\n",
    "plt.title('Average value of Nitrogen Dinoxide gas in different countries', fontsize=24)\n",
    "plt.savefig('avg_no2.png')\n",
    "plt.show()"
   ]
  },
  {
   "cell_type": "markdown",
   "metadata": {
    "_cell_guid": "9b01d1f7-f830-4530-a643-94c0145e029f",
    "_uuid": "8bd51c60eead9412bf0b3dc19056cf642977652d"
   },
   "source": [
    "# Nitrogen Dioxide : Analysis II\n",
    "## (ppm)"
   ]
  },
  {
   "cell_type": "code",
   "execution_count": null,
   "metadata": {
    "_cell_guid": "e02ba2e6-3ea4-4618-8abf-e3eb286d3663",
    "_uuid": "25e25cdbeb7166a56daf548a97d8500baf42c7d3",
    "collapsed": true
   },
   "outputs": [],
   "source": [
    "query_no2_ppm = \"\"\"\n",
    "    SELECT country, \n",
    "           avg(value) as Avg_Value\n",
    "    FROM\n",
    "      `bigquery-public-data.openaq.global_air_quality`\n",
    "    WHERE\n",
    "      pollutant = 'no2'\n",
    "      AND unit = 'ppm'\n",
    "      GROUP BY country, source_name\n",
    "      ORDER BY Avg_Value ASC\n",
    "        \"\"\"\n",
    "\n",
    "no2_ppm = open_aq.query_to_pandas_safe(query_no2_ppm)\n",
    "\n",
    "no2_ppm.head(5)"
   ]
  },
  {
   "cell_type": "markdown",
   "metadata": {
    "_cell_guid": "f583cf08-f802-469b-91ab-966f082e3610",
    "_uuid": "a52fb258c77763183c94c0c44c8ffc36b282d587"
   },
   "source": [
    "# Graph Plot"
   ]
  },
  {
   "cell_type": "code",
   "execution_count": null,
   "metadata": {
    "_cell_guid": "b2d9dbbe-c678-4f3a-8806-95ccbd37a033",
    "_uuid": "567d4dfb02e59acba3982864f8c7c1801357fcfe",
    "collapsed": true
   },
   "outputs": [],
   "source": [
    "plt.subplots(figsize=(15,6))\n",
    "sns.barplot(x='country',y='Avg_Value',data=no2_ppm,palette='inferno',edgecolor=sns.color_palette('dark',7))\n",
    "plt.ylabel('Nitrogen Dioxide Gas values in ppm', fontsize=20)\n",
    "plt.xticks(rotation=90,fontsize=20)\n",
    "plt.xlabel('Country', fontsize=20)\n",
    "plt.title('Average value of Nitrogen Dinoxide gas in different countries', fontsize=24)\n",
    "plt.savefig('avg_no2_ppm.png')\n",
    "plt.show()"
   ]
  },
  {
   "cell_type": "markdown",
   "metadata": {
    "_cell_guid": "e43b118f-7d33-4b95-83ce-cc0f958a97d3",
    "_uuid": "d234c429fc1f7da345ac8f08b9c43945d4f95246"
   },
   "source": [
    "# Ozone : Analysis I\n",
    "## (µg/m³)"
   ]
  },
  {
   "cell_type": "code",
   "execution_count": null,
   "metadata": {
    "_cell_guid": "19f6ef2c-48a8-4ac6-968c-168d6a4798ea",
    "_uuid": "f85beaa8d90258c59eb6899dbb147d740c49af9f",
    "collapsed": true
   },
   "outputs": [],
   "source": [
    "query_o3 = \"\"\"\n",
    "    SELECT country, \n",
    "           avg(value) as Avg_Value\n",
    "    FROM\n",
    "      `bigquery-public-data.openaq.global_air_quality`\n",
    "    WHERE\n",
    "      pollutant = 'o3'\n",
    "      AND unit = 'µg/m³'\n",
    "      GROUP BY country, source_name\n",
    "      ORDER BY Avg_Value ASC\n",
    "        \"\"\"\n",
    "\n",
    "o3 = open_aq.query_to_pandas_safe(query_o3)\n",
    "\n",
    "o3.head(10)"
   ]
  },
  {
   "cell_type": "markdown",
   "metadata": {
    "_cell_guid": "af68d188-121c-493e-9d47-4b3559218106",
    "_uuid": "04094cd28b6b798de4a8cbaa44514b3d168e10ed"
   },
   "source": [
    "# Graph Plot"
   ]
  },
  {
   "cell_type": "code",
   "execution_count": null,
   "metadata": {
    "_cell_guid": "95a39ae7-c94c-4e7d-b4c5-7903d977be78",
    "_uuid": "8261ba3002253ec976dc9781645756828bc5fc3f",
    "collapsed": true
   },
   "outputs": [],
   "source": [
    "plt.subplots(figsize=(15,6))\n",
    "sns.barplot(x='country',y='Avg_Value',data=o3,palette='inferno',edgecolor=sns.color_palette('dark',7))\n",
    "plt.ylabel('Ozone Gas values in µg/m³', fontsize=20)\n",
    "plt.xticks(rotation=90,fontsize=20)\n",
    "plt.xlabel('Country', fontsize=20)\n",
    "plt.title('Average value of Ozone gas in different countries', fontsize=24)\n",
    "plt.savefig('avg_o3.png')\n",
    "plt.show()"
   ]
  },
  {
   "cell_type": "markdown",
   "metadata": {
    "_cell_guid": "473283a1-5e6c-41d3-8a38-c6ff2cbc4b55",
    "_uuid": "0428cec703b50b6772439ea3468d0c63421740c0"
   },
   "source": [
    "# Ozone : Analysis II\n",
    "## (ppm)"
   ]
  },
  {
   "cell_type": "code",
   "execution_count": null,
   "metadata": {
    "_cell_guid": "441aac6e-eeff-4ae1-8cf4-e11a24211af7",
    "_uuid": "f7556a65295d862886a7c6c0dc83d59175d1d426",
    "collapsed": true
   },
   "outputs": [],
   "source": [
    "query_o3_ppm = \"\"\"\n",
    "    SELECT country, \n",
    "           avg(value) as Avg_Value\n",
    "    FROM\n",
    "      `bigquery-public-data.openaq.global_air_quality`\n",
    "    WHERE\n",
    "      pollutant = 'o3'\n",
    "      AND unit = 'ppm'\n",
    "      GROUP BY country, source_name\n",
    "      ORDER BY Avg_Value ASC\n",
    "        \"\"\"\n",
    "\n",
    "o3_ppm = open_aq.query_to_pandas_safe(query_o3_ppm)\n",
    "\n",
    "o3_ppm.head(5)"
   ]
  },
  {
   "cell_type": "markdown",
   "metadata": {
    "_cell_guid": "b7c48660-4349-42a1-b601-909c9c5fffbd",
    "_uuid": "c600b0d5b7e5949dab10a549ba6d4472598d4b21"
   },
   "source": [
    "# Graph Plot"
   ]
  },
  {
   "cell_type": "code",
   "execution_count": null,
   "metadata": {
    "_cell_guid": "ce87c289-e949-420e-a223-a88c9d58f5d0",
    "_uuid": "5d89758de4720296f09e3f63674a0b25747c99ae",
    "collapsed": true
   },
   "outputs": [],
   "source": [
    "plt.subplots(figsize=(15,6))\n",
    "sns.barplot(x='country',y='Avg_Value',data=o3_ppm,palette='inferno',edgecolor=sns.color_palette('dark',7))\n",
    "plt.ylabel('Ozone Gas values in ppm', fontsize=20)\n",
    "plt.xticks(rotation=90,fontsize=20)\n",
    "plt.xlabel('Country', fontsize=20)\n",
    "plt.title('Average value of Ozone gas in different countries', fontsize=24)\n",
    "plt.savefig('avg_o3_ppm.png')\n",
    "plt.show()"
   ]
  },
  {
   "cell_type": "markdown",
   "metadata": {
    "_cell_guid": "b0dc7a2a-9e03-4145-858e-fa5fc6c0926d",
    "_uuid": "c643a1c58fa82263f3f47d77143d9b2f5a6e8dd1"
   },
   "source": [
    "To be continued ......\n",
    "\n",
    "I will be back soon with some more interesting visualizations. \n",
    "Till then, your valuable comments and critics are most welcome.\n",
    "Please **upvote** if you appreciate my effort in the Data Science path."
   ]
  },
  {
   "cell_type": "code",
   "execution_count": null,
   "metadata": {
    "_cell_guid": "554eb9b7-c588-4a9c-9c13-40431528c3e4",
    "_uuid": "1dcdea956b4aa240335ef25d5b1075cd9b455b8b",
    "collapsed": true
   },
   "outputs": [],
   "source": []
  }
 ],
 "metadata": {
  "kernelspec": {
   "display_name": "Python 3",
   "language": "python",
   "name": "python3"
  },
  "language_info": {
   "codemirror_mode": {
    "name": "ipython",
    "version": 3
   },
   "file_extension": ".py",
   "mimetype": "text/x-python",
   "name": "python",
   "nbconvert_exporter": "python",
   "pygments_lexer": "ipython3",
   "version": "3.8.1"
  }
 },
 "nbformat": 4,
 "nbformat_minor": 1
}
